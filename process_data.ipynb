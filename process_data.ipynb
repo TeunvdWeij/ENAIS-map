{
 "cells": [
  {
   "attachments": {},
   "cell_type": "markdown",
   "metadata": {},
   "source": [
    "# Getting the coordinates from the cities\n",
    "Getting the coordinates from [this online file](https://docs.google.com/spreadsheets/d/1nNLhqt2C2_BQgeez8H_-Oa-lwaHFA6sudBMy-TqXcjA/edit?gid=0#gid=0). Make sure to download the csv.\n",
    "I can streamline this, maybe when I feel like it one time. \n",
    "\n",
    "See the README for more info. This is a link to the ma"
   ]
  },
  {
   "cell_type": "code",
   "execution_count": 1,
   "metadata": {},
   "outputs": [],
   "source": [
    "import re \n",
    "import pandas as pd\n",
    "import numpy as np \n",
    "from OSMPythonTools.nominatim import Nominatim"
   ]
  },
  {
   "cell_type": "code",
   "execution_count": 6,
   "metadata": {},
   "outputs": [],
   "source": [
    "#NOTE: this not secure, but that is not important for when we process only this data\n",
    "import ssl\n",
    "ssl._create_default_https_context = ssl._create_unverified_context"
   ]
  },
  {
   "cell_type": "code",
   "execution_count": 7,
   "metadata": {},
   "outputs": [],
   "source": [
    "# credits to https://gis.stackexchange.com/questions/54405/is-there-a-way-to-populate-a-spreadsheet-of-city-names-with-their-latitudes-and\n",
    "\n",
    "# Converts a iterable of string City names to a list of lat lon stings\n",
    "# Example: Input - \"New York, NY, USA\"\n",
    "#          Output = \"40.7127281,-74.0060152\"\n",
    "def QueryLocations(city_names):\n",
    "    nominatim = Nominatim()\n",
    "    lats, lons = [], [] \n",
    "    for name in city_names:\n",
    "        print(name)\n",
    "        city_json = nominatim.query(name).toJSON()[0]\n",
    "\n",
    "        lats.append(city_json[\"lat\"])\n",
    "        lons.append(city_json[\"lon\"])\n",
    "        \n",
    "    return lats, lons"
   ]
  },
  {
   "cell_type": "code",
   "execution_count": 8,
   "metadata": {},
   "outputs": [],
   "source": [
    "df = pd.read_csv(\"data/European AIS groups - map.csv\", skiprows=1)\n",
    "df = df.loc[df[\"status\"] == \"Ready to add\"]"
   ]
  },
  {
   "cell_type": "code",
   "execution_count": 9,
   "metadata": {},
   "outputs": [],
   "source": [
    "%%capture \n",
    "#capture because it produces much unnecessary output\n",
    "lats, lons = QueryLocations(df['City'])"
   ]
  },
  {
   "cell_type": "code",
   "execution_count": 10,
   "metadata": {},
   "outputs": [],
   "source": [
    "# have to use these specific column names for https://maps.co/gis/\n",
    "df['lat'] = lats\n",
    "df['lng'] = lons\n",
    "\n",
    "df[\"lng\"] = df[\"lng\"].astype(float)\n",
    "df[\"lat\"] = df[\"lat\"].astype(float)"
   ]
  },
  {
   "cell_type": "code",
   "execution_count": 11,
   "metadata": {},
   "outputs": [],
   "source": [
    "# df.dtypes"
   ]
  },
  {
   "cell_type": "code",
   "execution_count": 12,
   "metadata": {},
   "outputs": [],
   "source": [
    "# manually fix some coords\n",
    "df.loc[df['City'] == \"Cracow\", 'lat'] = 50.0647\n",
    "df.loc[df['City'] == \"Cracow\", 'lng'] = 19.9450\n",
    "\n",
    "df.loc[df['City'] == \"Belgrade\", 'lat'] = 44.8125\n",
    "df.loc[df['City'] == \"Belgrade\", 'lng'] = 20.4612\n"
   ]
  },
  {
   "cell_type": "code",
   "execution_count": 14,
   "metadata": {},
   "outputs": [],
   "source": [
    "# df[[\"group_type\", \"lat\", \"lng\"]]\n",
    "\n",
    "def adjust_longitude_if_overlap(df):\n",
    "    something_changed = False\n",
    "    df_orig = df.copy()\n",
    "    for i in range(len(df_orig)):\n",
    "        for j in range(i+1, len(df_orig)):\n",
    "            if df.loc[i, 'lat'] == df.loc[j, 'lat'] and df.loc[i, 'lng'] == df.loc[j, 'lng']:\n",
    "                # Adjust longitude by roughly 2 km, assuming 1 degree of longitude is roughly 111 km\n",
    "                adjustment = 2 / 111\n",
    "                df.at[j, 'lng'] += adjustment\n",
    "                something_changed = True\n",
    "\n",
    "    return df, something_changed\n",
    "\n",
    "# Apply the adjustment to the DataFrame\n",
    "while True:\n",
    "    df, something_changed = adjust_longitude_if_overlap(df)\n",
    "    if not something_changed:\n",
    "        break\n",
    "\n",
    "# df"
   ]
  },
  {
   "cell_type": "code",
   "execution_count": 15,
   "metadata": {},
   "outputs": [],
   "source": [
    "# df[[\"group_type\", \"lat\", \"lng\"]]\n",
    "\n",
    "def adjust_longitude_if_overlap(df):\n",
    "    something_changed = False\n",
    "    df_orig = df.copy()\n",
    "    for i in range(len(df_orig)):\n",
    "        for j in range(i+1, len(df_orig)):\n",
    "            if df.loc[i, 'lat'] == df.loc[j, 'lat'] and df.loc[i, 'lng'] == df.loc[j, 'lng']:\n",
    "                # Adjust longitude by roughly 2 km, assuming 1 degree of longitude is roughly 111 km\n",
    "                adjustment = 2 / 111\n",
    "                df.at[j, 'lng'] += adjustment\n",
    "                something_changed = True\n",
    "\n",
    "    return df, something_changed\n",
    "\n",
    "# Apply the adjustment to the DataFrame\n",
    "while True:\n",
    "    df, something_changed = adjust_longitude_if_overlap(df)\n",
    "    if not something_changed:\n",
    "        break\n",
    "\n",
    "# df"
   ]
  },
  {
   "cell_type": "code",
   "execution_count": 16,
   "metadata": {},
   "outputs": [],
   "source": [
    "df = df.fillna('')\n",
    "\n",
    "df[[\"orgname\", \"website / email (for contact persons)\", \"last updated\"]].astype(\"string\")\n",
    "\n",
    "# ugly code but oh well \n",
    "# combine the different colums to create the web representation\n",
    "df[\"text\"] = df.apply(lambda row: re.sub(r'\\n{3,}', '\\n\\n', f\"{row['orgname']}\\n{row['website / email (for contact persons)']}\\n\\n{row['other_public']}\\n\\nLast updated: {row['last updated']}\").rstrip('\\n'), axis=1)\n",
    "# df[\"description\"] = df.apply(lambda row: re.sub(r'\\n{3,}', '\\n\\n', f\"{row['orgname']}\\n{row['website / email (for contact persons)']}\\n\\n{row['other_public']}\\n\\n{row['last updated']}\").rstrip('\\n'), axis=1)\n"
   ]
  },
  {
   "cell_type": "code",
   "execution_count": 17,
   "metadata": {},
   "outputs": [],
   "source": [
    "group_types = [\"university\", \"city\", \"national\", \"ais co-working space\", \"contact person\"]"
   ]
  },
  {
   "cell_type": "code",
   "execution_count": 18,
   "metadata": {},
   "outputs": [],
   "source": [
    "df[\"group_type\"] = df[\"group_type\"].str.lower().str.strip()\n",
    "for i in df[\"group_type\"]:\n",
    "    if i not in group_types:\n",
    "        raise ValueError(f\"Group type is wrong for {i}\")"
   ]
  },
  {
   "cell_type": "code",
   "execution_count": 19,
   "metadata": {},
   "outputs": [],
   "source": [
    "# def adjust_longitude_if_overlap(df):\n",
    "#     for i in range(len(df)):\n",
    "#         for j in range(i+1, len(df)):\n",
    "#             if df.loc[i, 'lat'] == df.loc[j, 'lat'] and df.loc[i, 'lng'] == df.loc[j, 'lng']:\n",
    "#                 # Adjust longitude by roughly 2 km, assuming 1 degree of longitude is roughly 111 km\n",
    "#                 adjustment = 2 / 111\n",
    "#                 print(j)\n",
    "#                 df.at[j, 'lng'] += adjustment\n",
    "\n",
    "#     return df\n",
    "\n",
    "# # Apply the adjustment to the DataFrame\n",
    "# df = adjust_longitude_if_overlap(df)"
   ]
  },
  {
   "cell_type": "code",
   "execution_count": 20,
   "metadata": {},
   "outputs": [],
   "source": [
    "for group_type in group_types:\n",
    "    category_df = df[[\"lat\", \"lng\", \"text\"]].loc[df['group_type']==group_type].to_csv(f\"data/{group_type}.csv\")\n"
   ]
  },
  {
   "cell_type": "markdown",
   "metadata": {},
   "source": [
    "## Good, you have the files\n",
    "Now: login here: https://umap.openstreetmap.fr/en/me\n",
    "\n",
    "You see the map. \n",
    "\n",
    "Upload the files to the relevant layers. "
   ]
  },
  {
   "cell_type": "code",
   "execution_count": null,
   "metadata": {},
   "outputs": [],
   "source": []
  }
 ],
 "metadata": {
  "kernelspec": {
   "display_name": "ENAIS_venv",
   "language": "python",
   "name": "python3"
  },
  "language_info": {
   "codemirror_mode": {
    "name": "ipython",
    "version": 3
   },
   "file_extension": ".py",
   "mimetype": "text/x-python",
   "name": "python",
   "nbconvert_exporter": "python",
   "pygments_lexer": "ipython3",
   "version": "3.11.9"
  },
  "orig_nbformat": 4
 },
 "nbformat": 4,
 "nbformat_minor": 2
}
