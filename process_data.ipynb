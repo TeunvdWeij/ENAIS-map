{
 "cells": [
  {
   "attachments": {},
   "cell_type": "markdown",
   "metadata": {},
   "source": [
    "# Getting the coordinates from the cities\n",
    "Getting the coordinates from [this online file](https://docs.google.com/spreadsheets/d/1FETP5mYMquMH6K1v8O_K6IQ-yLibroEBJPcdT6lLYFw/edit#gid=359373238)\n",
    "I can streamline this, maybe when I feel like it one time. "
   ]
  },
  {
   "cell_type": "code",
   "execution_count": 1,
   "metadata": {},
   "outputs": [],
   "source": [
    "import pandas as pd \n",
    "import numpy as np \n",
    "from OSMPythonTools.nominatim import Nominatim"
   ]
  },
  {
   "cell_type": "code",
   "execution_count": 2,
   "metadata": {},
   "outputs": [],
   "source": [
    "#NOTE: this not secure, but that is not important for when we process only this data\n",
    "import ssl\n",
    "ssl._create_default_https_context = ssl._create_unverified_context"
   ]
  },
  {
   "cell_type": "code",
   "execution_count": 10,
   "metadata": {},
   "outputs": [],
   "source": [
    "# credits to https://gis.stackexchange.com/questions/54405/is-there-a-way-to-populate-a-spreadsheet-of-city-names-with-their-latitudes-and\n",
    "\n",
    "# Converts a iterable of string City names to a list of lat lon stings\n",
    "# Example: Input - \"New York, NY, USA\"\n",
    "#          Output = \"40.7127281,-74.0060152\"\n",
    "def QueryLocations(city_names):\n",
    "    nominatim = Nominatim()\n",
    "    lats, lons = [], [] \n",
    "    for name in city_names:\n",
    "        print(name)\n",
    "        city_json = nominatim.query(name).toJSON()[0]\n",
    "\n",
    "        lats.append(city_json[\"lat\"])\n",
    "        lons.append(city_json[\"lon\"])\n",
    "        \n",
    "    return lats, lons"
   ]
  },
  {
   "cell_type": "code",
   "execution_count": 11,
   "metadata": {},
   "outputs": [],
   "source": [
    "df = pd.read_csv(\"data/European AI safety cities - ENAIS locations.csv\")"
   ]
  },
  {
   "cell_type": "code",
   "execution_count": 16,
   "metadata": {},
   "outputs": [],
   "source": [
    "%%capture \n",
    "#capture because it produces much unnecessary output\n",
    "lats, lons = QueryLocations(df['City'])"
   ]
  },
  {
   "cell_type": "code",
   "execution_count": 17,
   "metadata": {},
   "outputs": [],
   "source": [
    "# have to use these specific column names for https://maps.co/gis/\n",
    "df['lat'] = lats\n",
    "df['lng'] = lons"
   ]
  },
  {
   "cell_type": "code",
   "execution_count": 18,
   "metadata": {},
   "outputs": [],
   "source": [
    "# manually fix some coords\n",
    "df.loc[df['City'] == \"Cracow\", 'lat'] = 50.0647\n",
    "df.loc[df['City'] == \"Cracow\", 'lng'] = 19.9450\n",
    "\n",
    "df.loc[df['City'] == \"Belgrade\", 'lat'] = 44.8125\n",
    "df.loc[df['City'] == \"Belgrade\", 'lng'] = 20.4612\n"
   ]
  },
  {
   "cell_type": "code",
   "execution_count": 19,
   "metadata": {},
   "outputs": [
    {
     "data": {
      "text/html": [
       "<div>\n",
       "<style scoped>\n",
       "    .dataframe tbody tr th:only-of-type {\n",
       "        vertical-align: middle;\n",
       "    }\n",
       "\n",
       "    .dataframe tbody tr th {\n",
       "        vertical-align: top;\n",
       "    }\n",
       "\n",
       "    .dataframe thead th {\n",
       "        text-align: right;\n",
       "    }\n",
       "</style>\n",
       "<table border=\"1\" class=\"dataframe\">\n",
       "  <thead>\n",
       "    <tr style=\"text-align: right;\">\n",
       "      <th></th>\n",
       "      <th>City</th>\n",
       "      <th>Name</th>\n",
       "      <th>description</th>\n",
       "      <th>Description</th>\n",
       "      <th>Media link</th>\n",
       "      <th>Tags</th>\n",
       "      <th>Hub</th>\n",
       "      <th>lat</th>\n",
       "      <th>lng</th>\n",
       "    </tr>\n",
       "  </thead>\n",
       "  <tbody>\n",
       "    <tr>\n",
       "      <th>0</th>\n",
       "      <td>Cracow</td>\n",
       "      <td>Cracow</td>\n",
       "      <td>We are about to start regular meetings in Febr...</td>\n",
       "      <td></td>\n",
       "      <td></td>\n",
       "      <td></td>\n",
       "      <td>0</td>\n",
       "      <td>50.0647</td>\n",
       "      <td>19.945</td>\n",
       "    </tr>\n",
       "    <tr>\n",
       "      <th>1</th>\n",
       "      <td>Aarhus</td>\n",
       "      <td>Aarhus</td>\n",
       "      <td>Aarhus University has an AI safety interested ...</td>\n",
       "      <td>mailto:zaki@apartresearch.com</td>\n",
       "      <td>https://youtu.be/Nx5gIbTsHJM</td>\n",
       "      <td>ENAIS</td>\n",
       "      <td>0</td>\n",
       "      <td>56.1496278</td>\n",
       "      <td>10.2134046</td>\n",
       "    </tr>\n",
       "    <tr>\n",
       "      <th>2</th>\n",
       "      <td>Oxford</td>\n",
       "      <td>AI Safety Hub</td>\n",
       "      <td>AI Safety Hub aims to support individuals who ...</td>\n",
       "      <td></td>\n",
       "      <td></td>\n",
       "      <td></td>\n",
       "      <td>1</td>\n",
       "      <td>51.7520131</td>\n",
       "      <td>-1.2578499</td>\n",
       "    </tr>\n",
       "    <tr>\n",
       "      <th>3</th>\n",
       "      <td>Groningen</td>\n",
       "      <td>AI Safety Initiative Groningen</td>\n",
       "      <td>We have a lot of AI research and education goi...</td>\n",
       "      <td>aisig.org</td>\n",
       "      <td>mailto:info@aisig.org</td>\n",
       "      <td>ENAIS</td>\n",
       "      <td>1</td>\n",
       "      <td>53.2190652</td>\n",
       "      <td>6.5680077</td>\n",
       "    </tr>\n",
       "    <tr>\n",
       "      <th>4</th>\n",
       "      <td>Amsterdam</td>\n",
       "      <td>Amsterdam</td>\n",
       "      <td>The University of Amsterdam produces excellent...</td>\n",
       "      <td></td>\n",
       "      <td></td>\n",
       "      <td>ENAIS</td>\n",
       "      <td>1</td>\n",
       "      <td>52.3730796</td>\n",
       "      <td>4.8924534</td>\n",
       "    </tr>\n",
       "  </tbody>\n",
       "</table>\n",
       "</div>"
      ],
      "text/plain": [
       "         City                            Name   \n",
       "0      Cracow                          Cracow  \\\n",
       "1      Aarhus                          Aarhus   \n",
       "2      Oxford                   AI Safety Hub   \n",
       "3   Groningen  AI Safety Initiative Groningen   \n",
       "4   Amsterdam                       Amsterdam   \n",
       "\n",
       "                                         description   \n",
       "0  We are about to start regular meetings in Febr...  \\\n",
       "1  Aarhus University has an AI safety interested ...   \n",
       "2  AI Safety Hub aims to support individuals who ...   \n",
       "3  We have a lot of AI research and education goi...   \n",
       "4  The University of Amsterdam produces excellent...   \n",
       "\n",
       "                     Description                    Media link   Tags  Hub   \n",
       "0                                                                        0  \\\n",
       "1  mailto:zaki@apartresearch.com  https://youtu.be/Nx5gIbTsHJM  ENAIS    0   \n",
       "2                                                                        1   \n",
       "3                      aisig.org         mailto:info@aisig.org  ENAIS    1   \n",
       "4                                                               ENAIS    1   \n",
       "\n",
       "          lat         lng  \n",
       "0     50.0647      19.945  \n",
       "1  56.1496278  10.2134046  \n",
       "2  51.7520131  -1.2578499  \n",
       "3  53.2190652   6.5680077  \n",
       "4  52.3730796   4.8924534  "
      ]
     },
     "execution_count": 19,
     "metadata": {},
     "output_type": "execute_result"
    }
   ],
   "source": [
    "# put all info to show on website in description column\n",
    "df = df.fillna('')\n",
    "df[['Unnamed: 2', 'Description', 'Media link']].astype(\"string\")\n",
    "\n",
    "df['Unnamed: 2'] = df['Unnamed: 2'] + \"\\n\\n\" + df['Description'] + \"\\n\\n\" + df['Media link']\n",
    "\n",
    "df = df.rename(columns={\"Unnamed: 2\": \"description\"})\n",
    "\n",
    "df.head()"
   ]
  },
  {
   "cell_type": "code",
   "execution_count": 20,
   "metadata": {},
   "outputs": [],
   "source": [
    "# check whether hub is missing\n",
    "if len(np.unique(df['Hub'])) != 2:\n",
    "    print(\"CHECK HUB COLUMN, CITIES MIGHT BE MISSING\")"
   ]
  },
  {
   "cell_type": "code",
   "execution_count": 21,
   "metadata": {},
   "outputs": [],
   "source": [
    "df.loc[df['Hub']==0].to_csv(\"data/cities_with_coords.csv\")\n",
    "df.loc[df['Hub']==1].to_csv(\"data/hubs_with_coords.csv\")"
   ]
  },
  {
   "cell_type": "code",
   "execution_count": null,
   "metadata": {},
   "outputs": [],
   "source": []
  }
 ],
 "metadata": {
  "kernelspec": {
   "display_name": "ENAIS_venv",
   "language": "python",
   "name": "python3"
  },
  "language_info": {
   "codemirror_mode": {
    "name": "ipython",
    "version": 3
   },
   "file_extension": ".py",
   "mimetype": "text/x-python",
   "name": "python",
   "nbconvert_exporter": "python",
   "pygments_lexer": "ipython3",
   "version": "3.10.8"
  },
  "orig_nbformat": 4
 },
 "nbformat": 4,
 "nbformat_minor": 2
}
